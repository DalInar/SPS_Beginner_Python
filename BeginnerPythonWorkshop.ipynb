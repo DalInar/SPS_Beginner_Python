{
 "cells": [
  {
   "cell_type": "markdown",
   "metadata": {},
   "source": [
    "# Beginner Python Workshop\n",
    "Python is one of the most popular programming languages in the world due to its high versatility and ease of use.  Python can be used for data manipulation and analysis, file input and output, visualization, numerical computation, curve fitting, machine learning, etc. Python is also an interpretted language, which means that the code is read and turned into machine code in real time by an 'intepretter', rather than being compiled ahead of time.  This allows quick and interactive development.\n",
    "\n",
    "In this workshop, we'll look at some of the basic features built into Python, and then we'll see how to make Python really powerful with libraries.\n",
    "\n",
    "### Workshop Agenda\n",
    "1. Basic Python \n",
    "    * Syntax\n",
    "    * Data types\n",
    "    * Control structures\n",
    "    * Functions\n",
    "* Libraries\n",
    "    * NumPy\n",
    "    * Matplotlib\n",
    "* Applications\n",
    "    * Integration\n",
    "    * Projectile Motion\n",
    "    * Percolation\n",
    "* Tinkering and Questions"
   ]
  },
  {
   "cell_type": "markdown",
   "metadata": {},
   "source": [
    "## Basic Python\n",
    "\n",
    "### Syntax\n",
    "One important thing to know about Python is that it cares about white space, so you need to make sure that your code is indented consistently.  Also, Python is implicitly typed, which means that you don't need to say what the datatype of a variable is - the Python interpretter figures it out from context."
   ]
  },
  {
   "cell_type": "code",
   "execution_count": null,
   "metadata": {},
   "outputs": [],
   "source": [
    "a=2\n",
    "print(\"a =\",a)\n",
    "print(type(a))"
   ]
  },
  {
   "cell_type": "code",
   "execution_count": null,
   "metadata": {},
   "outputs": [],
   "source": [
    "f = 2+1j*8\n",
    "print(\"f =\",f)\n",
    "print(type(f))"
   ]
  },
  {
   "cell_type": "markdown",
   "metadata": {},
   "source": [
    "#### Exercise 1\n",
    "Make and assign two new variables to arbitrary numbers.  Multiply those numbers and assign the result to a new variable.  Print out the value of the product and its data type."
   ]
  },
  {
   "cell_type": "code",
   "execution_count": null,
   "metadata": {},
   "outputs": [],
   "source": [
    "#your code here!"
   ]
  },
  {
   "cell_type": "markdown",
   "metadata": {},
   "source": [
    "### Data types\n",
    "Python has many built-in data types, including integers, floating point numbers, complex numbers, strings, lists, tuples, etc."
   ]
  },
  {
   "cell_type": "code",
   "execution_count": null,
   "metadata": {},
   "outputs": [],
   "source": [
    "# tuple\n",
    "tup = (3.4, \"word\")    # Example of a tuple (and this is an example of a comment!)\n",
    "print(tup)\n",
    "print(type(tup))\n",
    "print(tup[1])"
   ]
  },
  {
   "cell_type": "code",
   "execution_count": null,
   "metadata": {},
   "outputs": [],
   "source": [
    "# string\n",
    "word = \"here are some words\"\n",
    "print(word)\n",
    "print(type(word))"
   ]
  },
  {
   "cell_type": "code",
   "execution_count": null,
   "metadata": {},
   "outputs": [],
   "source": [
    "# list\n",
    "list_ex = [2,3,4,5.5]\n",
    "print(list_ex)\n",
    "list_ex.append(23)\n",
    "print(list_ex)\n",
    "print(type(list_ex))\n",
    "print(\"Number of elements in list = \", len(list_ex))\n",
    "print(\"Second element in array = \", list_ex[1])    # List indexing"
   ]
  },
  {
   "cell_type": "markdown",
   "metadata": {},
   "source": [
    "Just now we saw an example of a 'method' for the 'list' data type called `append()`.  Methods are data type specific ways or modifying a variable of getting information about it.  You can get all the methods available for a variable with the `dir()` function."
   ]
  },
  {
   "cell_type": "code",
   "execution_count": null,
   "metadata": {},
   "outputs": [],
   "source": [
    "numbers = list(range(0,10))\n",
    "print(numbers)\n",
    "print(dir(numbers))\n",
    "numbers.reverse()\n",
    "print(numbers)"
   ]
  },
  {
   "cell_type": "markdown",
   "metadata": {},
   "source": [
    "#### Exercise 2\n",
    "Make a list of 4 arbitrary words in random order.  Use a list method to sort the list alphabetically, and print the sorted list."
   ]
  },
  {
   "cell_type": "code",
   "execution_count": null,
   "metadata": {},
   "outputs": [],
   "source": [
    "#your code here!"
   ]
  },
  {
   "cell_type": "markdown",
   "metadata": {},
   "source": [
    "### Control structures\n",
    "Writing a substantial program requires control structures, such as if/else statements and loops."
   ]
  },
  {
   "cell_type": "code",
   "execution_count": null,
   "metadata": {},
   "outputs": [],
   "source": [
    "# if/else\n",
    "a=1.4     # try changing the value of a\n",
    "if(a<1):\n",
    "    print(\"a =\",a,\" is less than 1\")\n",
    "elif(1 <= a < 3):\n",
    "    print(\"a =\",a,\" is geq 1 and less than 3\")\n",
    "else:\n",
    "    print(\"a =\",a,\" is geq 3\")"
   ]
  },
  {
   "cell_type": "code",
   "execution_count": null,
   "metadata": {},
   "outputs": [],
   "source": [
    "# while loop\n",
    "i=0\n",
    "while(i<5):\n",
    "    print(i)\n",
    "    i+=1"
   ]
  },
  {
   "cell_type": "code",
   "execution_count": null,
   "metadata": {},
   "outputs": [],
   "source": [
    "# for loop\n",
    "for i in range(0,10,2):\n",
    "    print(i)"
   ]
  },
  {
   "cell_type": "markdown",
   "metadata": {},
   "source": [
    "#### Exercise 3\n",
    "Write a loop that prints out the integers from 0 to 10 and whether they are odd or even. Hint: the modulo operator is % in python, ex: `3%2 = 1`."
   ]
  },
  {
   "cell_type": "code",
   "execution_count": null,
   "metadata": {},
   "outputs": [],
   "source": [
    "#your code here!"
   ]
  },
  {
   "cell_type": "markdown",
   "metadata": {},
   "source": [
    "### Functions\n",
    "Functions are how we make code reusable and avoid repeating the same code over and over."
   ]
  },
  {
   "cell_type": "code",
   "execution_count": null,
   "metadata": {},
   "outputs": [],
   "source": [
    "def my_func(a, b):\n",
    "    return a**3 - b\n",
    "\n",
    "print(my_func(1.,1.))\n",
    "print(my_func(2.4,-0.3))\n",
    "print(my_func(-2., 12))"
   ]
  },
  {
   "cell_type": "code",
   "execution_count": null,
   "metadata": {},
   "outputs": [],
   "source": [
    "import cmath\n",
    "\n",
    "# find the roots of the quadratic equation f(x) = ax**2 + bx + c\n",
    "def another_func(a,b,c):\n",
    "    temp1 = (b + cmath.sqrt(b**2 - 4*a*c))/(2*a)\n",
    "    temp2 = (b - cmath.sqrt(b**2 - 4*a*c))/(2*a)\n",
    "    return (temp1, temp2)\n",
    "\n",
    "print(another_func(3,4,1))\n",
    "print(another_func(2,4,1))\n",
    "print(another_func(1,3.4,5.2))"
   ]
  },
  {
   "cell_type": "markdown",
   "metadata": {},
   "source": [
    "#### Exercise 4\n",
    "Write a function that takes a list of numbers as an argument and adds 2 to each entry.  Try out your function with 2 random lists of numbers."
   ]
  },
  {
   "cell_type": "code",
   "execution_count": null,
   "metadata": {},
   "outputs": [],
   "source": [
    "#your code here!"
   ]
  },
  {
   "cell_type": "markdown",
   "metadata": {},
   "source": [
    "## Libraries\n",
    "Python becomes really powerful when you make use of the many libraries available, called 'modules' in Python parlance. Modules are available to perform matrix math (NumPy), plotting (Matplotlib), symbolic algebra (SymPy), machine learning (TensorFlow), and much, much more."
   ]
  },
  {
   "cell_type": "markdown",
   "metadata": {},
   "source": [
    "### NumPy\n",
    "Almost all physics applications of Python will use NumPy. NumPy provides support of matrix and vector manipulations and high performance numerical calculations. NumPy provides mathematical functions (like sin, cos) and arrays. You get get information about a method or function with the `help()` function, or from the [NumPy docs](https://docs.scipy.org/doc/numpy/reference/index.html#reference)."
   ]
  },
  {
   "cell_type": "code",
   "execution_count": null,
   "metadata": {},
   "outputs": [],
   "source": [
    "# Numpy and arrays\n",
    "import numpy as np\n",
    "\n",
    "x = np.arange(-10, 10, 0.5)\n",
    "print(x)\n",
    "print(type(x))\n",
    "print(\"shape of x = \",x.shape)\n",
    "help(np.arange)"
   ]
  },
  {
   "cell_type": "code",
   "execution_count": null,
   "metadata": {},
   "outputs": [],
   "source": [
    "# Element wise multiplication and addition\n",
    "y = 3*x\n",
    "print('y=\\n',y)\n",
    "print('y+x=\\n',y+x)\n",
    "print('sin(y)=\\n',np.sin(y))"
   ]
  },
  {
   "cell_type": "code",
   "execution_count": null,
   "metadata": {},
   "outputs": [],
   "source": [
    "# Matrix multiplication\n",
    "a = np.array([[2,2],[-1,2]])\n",
    "b = np.array([[-3,2],[0,2.3]])\n",
    "c1 = a*b\n",
    "c2 = np.dot(a,b)\n",
    "print('a=\\n',a)\n",
    "print('b=\\n',b)\n",
    "print('c1=\\n',c1)\n",
    "print('c2=\\n',c2)"
   ]
  },
  {
   "cell_type": "markdown",
   "metadata": {},
   "source": [
    "#### Exercise 5\n",
    "Perform the following multiplication with Python. Print out $\\vec{x}$.\n",
    "$$ \\vec{x} = \\begin{bmatrix}\n",
    "1 &  -1 \\\\\n",
    "2.2 &  7\n",
    "\\end{bmatrix} \\cdot\n",
    "\\begin{bmatrix} 0 \\\\ 4 \\end{bmatrix}$$"
   ]
  },
  {
   "cell_type": "code",
   "execution_count": null,
   "metadata": {},
   "outputs": [],
   "source": [
    "#your code here!"
   ]
  },
  {
   "cell_type": "markdown",
   "metadata": {},
   "source": [
    "### Matplotlib\n",
    "[Matplotlib](https://matplotlib.org) is an old and highly capable plotting library.  It is basically the default plotting library used by Python people, but more modern libraries are arising that can make prettier plots, can better handle complex datasets, and support more interactivity. Some examples include Bokeh, Plotly, pygal, etc.  See [here](https://www.fusioncharts.com/blog/best-python-data-visualization-libraries/) for a Python plotting module rundown."
   ]
  },
  {
   "cell_type": "code",
   "execution_count": null,
   "metadata": {},
   "outputs": [],
   "source": [
    "import matplotlib.pyplot as plt\n",
    "%matplotlib notebook   \n",
    "# Our first Jupyter 'magic' command, this one allows plots to be rendered in the notebook"
   ]
  },
  {
   "cell_type": "code",
   "execution_count": null,
   "metadata": {},
   "outputs": [],
   "source": [
    "# A simple plot\n",
    "x = np.arange(-np.pi, np.pi, 0.1)\n",
    "data = np.sin(x)\n",
    "\n",
    "plt.figure()\n",
    "plt.plot(x,data, label=\"function\")\n",
    "plt.xlabel('x')\n",
    "plt.ylabel('sin(x)')\n",
    "plt.title('The Title')\n",
    "plt.legend()\n",
    "plt.savefig(\"my_simple_plot.png\")\n",
    "plt.show()"
   ]
  },
  {
   "cell_type": "code",
   "execution_count": null,
   "metadata": {},
   "outputs": [],
   "source": [
    "# Subplots\n",
    "x = np.arange(-np.pi, np.pi, 0.1)\n",
    "fig, axs = plt.subplots(2,2)\n",
    "\n",
    "axs[0,0].plot(x, np.sin(x))\n",
    "axs[0,0].set_title('sin(x)')\n",
    "\n",
    "axs[0,1].plot(x, np.cos(x))\n",
    "axs[0,1].set_title('cos(x)')\n",
    "\n",
    "axs[1,0].plot(x, np.tan(x))\n",
    "axs[1,0].set_title('tan(x)')\n",
    "\n",
    "axs[1,1].plot(x, np.sin(x)**2, '--o', color='orange')\n",
    "axs[1,1].set_title(r'$sin^2(x)$')\n",
    "\n",
    "plt.tight_layout()\n",
    "plt.savefig(\"my_simple_subplots.png\")\n",
    "plt.show()"
   ]
  },
  {
   "cell_type": "markdown",
   "metadata": {},
   "source": [
    "#### Exercise 6\n",
    "Make a figure with 2 subplots.  In the first subplot, plot $f(x)=e^{-x^2/2}$.  In the second, plot $g(x)=e^{-(x-1)^2/0.1}$."
   ]
  },
  {
   "cell_type": "code",
   "execution_count": null,
   "metadata": {},
   "outputs": [],
   "source": [
    "#your code here!"
   ]
  },
  {
   "cell_type": "markdown",
   "metadata": {},
   "source": [
    "## Applications\n",
    "Now let's try to do something more interesting with Python.\n",
    "\n",
    "### Integration\n",
    "Integrals are a big part of physics, but sometimes we can't compute an integral analytically.  Luckily, performed integrals numerically is super simple.  A definite integral can be calculated by defining a finite sized mesh and performing a sum over the areas of skinny boxes, just like when we first learned calculus.\n",
    "$$ \\int_a^b f(x)dx \\approx \\sum_{x_i=a}^b f(x_i)\\delta x$$\n",
    "Where $x_i = a+i\\cdot \\delta x$.\n",
    "\n",
    "For example, let's calculate the following integral:\n",
    "$$L = \\int_{-\\pi}^{\\pi} x\\cdot \\sin(x)\\cdot e^{-x^2} $$"
   ]
  },
  {
   "cell_type": "code",
   "execution_count": null,
   "metadata": {},
   "outputs": [],
   "source": [
    "dx = 0.1\n",
    "x = np.arange(-np.pi, np.pi, dx)\n",
    "\n",
    "def integrand(x):\n",
    "    return x*np.sin(x)*np.exp(-x**2)\n",
    "\n",
    "data = integrand(x)\n",
    "L = np.sum(data)*dx\n",
    "\n",
    "print(\"dx =\",dx)\n",
    "print(\"L =\",L)\n",
    "\n",
    "plt.figure()\n",
    "plt.plot(x, data, '--o')\n",
    "plt.show()"
   ]
  },
  {
   "cell_type": "markdown",
   "metadata": {},
   "source": [
    "#### Note on Efficiency\n",
    "Whenever possible, we should try to take advantage of Python's inherent ability to vectorize."
   ]
  },
  {
   "cell_type": "code",
   "execution_count": null,
   "metadata": {},
   "outputs": [],
   "source": [
    "x = np.arange(-100, 100, 0.001)\n",
    "print(x.shape)\n",
    "\n",
    "def exp_fast(x):\n",
    "    return np.exp(x)\n",
    "\n",
    "def exp_slow(x):\n",
    "    result = np.zeros_like(x)\n",
    "    for i in range(0, len(x)):\n",
    "        result[i] = np.exp(x[i])\n",
    "    return result"
   ]
  },
  {
   "cell_type": "code",
   "execution_count": null,
   "metadata": {},
   "outputs": [],
   "source": [
    "%%time\n",
    "exp_fast(x)"
   ]
  },
  {
   "cell_type": "code",
   "execution_count": null,
   "metadata": {},
   "outputs": [],
   "source": [
    "%%time\n",
    "exp_slow(x)"
   ]
  },
  {
   "cell_type": "markdown",
   "metadata": {},
   "source": [
    "### Projectile Motion\n",
    "Let's calculate the trajectory of a particle that starts off a some height $h$ with velocity $\\vec{v}_0$ and is subject to both the gravitational force and air drag. (Some more information about the analytic solution to this problem can be [found here](http://farside.ph.utexas.edu/teaching/336k/Newtonhtml/node29.html). )\n",
    "$$\\vec{F}_{total}=\\vec{F}_g+\\vec{F}_{drag}$$\n",
    "$$\\vec{F}_g = -mg\\hat{y}$$\n",
    "$$\\vec{F}_{drag} = -c\\vec{v}$$\n",
    "So the equation of motion is\n",
    "$$m\\vec{a}=\\vec{F}_{total}$$\n",
    "$$m\\frac{d\\vec{v}}{dt} = -mg\\hat{y}-c\\vec{v}$$\n",
    "We can break this up into two equations:\n",
    "$$\\frac{dv_x}{dt}=-\\frac{c}{m}v_x$$\n",
    "$$\\frac{dv_y}{dt}=-g-\\frac{c}{m}v_y$$\n",
    "Now, if we discretize time into slices, $t_n=n\\cdot \\delta t$, we can approximate derivatives as finite differences\n",
    "$$\\frac{df}{dt} \\approx \\frac{f(t+\\delta t)-f(t)}{\\delta t}$$\n",
    "$$f(t_n)=f(n\\cdot \\delta t)=f^n$$\n",
    "Our projectile equations can then be written as\n",
    "$$v_x^{n+1}=v_x^n -\\frac{c}{m}v_x^n\\delta t$$\n",
    "$$v_y^{n+1}=v_y^n -\\left(g + \\frac{c}{m}v_y^n \\right)\\delta t$$\n",
    "$$ x^{n+1} = x^n + v_x^n \\delta t$$\n",
    "$$ y^{n+1} = y^n + v_y^n \\delta t$$\n",
    "Let's simulate the trajectory until the particle hits the ground."
   ]
  },
  {
   "cell_type": "code",
   "execution_count": null,
   "metadata": {},
   "outputs": [],
   "source": [
    "def trajectory(h, vx0, vy0, dt, c, m):\n",
    "    g = 9.81\n",
    "    xs = []\n",
    "    ys = []\n",
    "    vxs = []\n",
    "    vys = []\n",
    "    \n",
    "    xs.append(0)\n",
    "    ys.append(h)\n",
    "    vxs.append(vx0)\n",
    "    vys.append(vy0)\n",
    "    \n",
    "    time = 0\n",
    "    while(ys[-1] >= 0):\n",
    "        xs.append(xs[-1]+vxs[-1]*dt)\n",
    "        ys.append(ys[-1]+vys[-1]*dt)\n",
    "        fric_x = vxs[-1]\n",
    "        fric_y = vys[-1]\n",
    "        fric_norm = 1 #np.sqrt(fric_x**2 + fric_y**2)\n",
    "        vxs.append(vxs[-1]-(c/m)*fric_x/fric_norm*dt)\n",
    "        vys.append(vys[-1]-(g+(c/m)*fric_y/fric_norm)*dt)\n",
    "        time += dt\n",
    "        \n",
    "    return (xs, ys, time)\n",
    "\n",
    "plt.figure()\n",
    "c=2\n",
    "m=5\n",
    "dt = 0.01\n",
    "h=100\n",
    "\n",
    "(xs, ys, time) = trajectory(h, 100, 10, dt, c, m)\n",
    "plt.plot(xs, ys, label=\"time = \"+str(time))\n",
    "\n",
    "(xs, ys, time) = trajectory(h, 10, 10, dt, c, m)\n",
    "plt.plot(xs, ys, label=\"time = \"+str(time))\n",
    "\n",
    "plt.legend()\n",
    "plt.show()"
   ]
  },
  {
   "cell_type": "markdown",
   "metadata": {},
   "source": [
    "### Percolation\n",
    "Percolation theory is one of the simplest models that displays phase transitions. It also serves as a gateway to concepts like fractals, scaling, and renormalization theory. Percolation problems also pop up all over science, from biology to nanomaterials to forest fires. (More about percolation theory [here](http://web.mit.edu/ceder/publications/Percolation.pdf), and a helpful blog post that helped me simplify this exercise [here](https://dragly.org/2013/03/25/working-with-percolation-clusters-in-python/)!)  \n",
    "\n",
    "Percolation problems involve a lattice of sites.  The lattice can be of any shape and dimension, but here we are going to consider a 2 dimensional square lattice.  We then say that each lattice site can be occupied with probability $p$, and then study the patterns of occupied sites that result."
   ]
  },
  {
   "cell_type": "code",
   "execution_count": null,
   "metadata": {},
   "outputs": [],
   "source": [
    "size = 10\n",
    "data = np.random.random((size,size))\n",
    "\n",
    "fig, axs = plt.subplots(2,2)\n",
    "axs[0,0].imshow(data < 0.1, origin='lower', interpolation='nearest')\n",
    "axs[0,0].set_ylabel(r\"$p=0.1$\")\n",
    "axs[0,1].imshow(data < 0.4, origin='lower', interpolation='nearest')\n",
    "axs[0,1].set_ylabel(r\"$p=0.4$\")\n",
    "axs[1,0].imshow(data < 0.6, origin='lower', interpolation='nearest')\n",
    "axs[1,0].set_ylabel(r\"$p=0.6$\")\n",
    "axs[1,1].imshow(data < 0.8, origin='lower', interpolation='nearest')\n",
    "axs[1,1].set_ylabel(r\"$p=0.8$\")\n",
    "plt.tight_layout()\n",
    "plt.show()"
   ]
  },
  {
   "cell_type": "markdown",
   "metadata": {},
   "source": [
    "The object of study in percolation theory are the clusters of occupied sites, and how they change depending on $p$, the shape of the lattice, and the size of the lattice.  A cluster of sites is a group of occupied sites that are attached (or adjacent) to each other. \n",
    "\n",
    "A particularly interesting question is when *percolating clusters* form, which are clusters that stretch the entire way across the lattice, either from left to right or top to bottom.  It turns out that these clusters start to exist around a critical value of $p$, called $p_c$.  The transition from not having to having percolating clusters is one of the simplest (but still nontrivial!) phase transitions, and leads into interesting fields of study like fractals, critical scaling, and universality.\n",
    "\n",
    "In order to study the behavior of a percolation problem, we need algorithms that can identify clusters on a lattice. Luckily, these algorithms are well developed and containing in libraries like [SciPy](https://docs.scipy.org/doc/scipy-0.16.0/reference/generated/scipy.ndimage.measurements.label.html), mostly due to their importance in image processing.  Here we'll use these algorithms to label the unique clusters and figure out it a percolating cluster exists."
   ]
  },
  {
   "cell_type": "code",
   "execution_count": null,
   "metadata": {
    "scrolled": false
   },
   "outputs": [],
   "source": [
    "from scipy.ndimage import measurements\n",
    "from random import shuffle\n",
    "\n",
    "def is_percolating(labels):\n",
    "    (Lx, Ly) = labels.shape\n",
    "    \n",
    "    #Check the left and right for percolating cluster\n",
    "    for i in range(0, Lx):\n",
    "        val1 = labels[i,0]\n",
    "        if(val1 == 0):\n",
    "            continue\n",
    "        if(val1 in labels[:,-1]):\n",
    "            return True\n",
    "    \n",
    "    #Check top and bottom for percolating cluster\n",
    "    for i in range(0, Ly):\n",
    "        val1 = labels[0,i]\n",
    "        if(val1 == 0):\n",
    "            continue\n",
    "        if(val1 in labels[-1,:]):\n",
    "            return True\n",
    "            \n",
    "    return False\n",
    "    \n",
    "def label_clusters(data):\n",
    "    lw, num = measurements.label(z)\n",
    "    return (lw, num)\n",
    "\n",
    "size = 10\n",
    "p = 0.55\n",
    "data = np.random.random((size,size))\n",
    "z = data<p\n",
    "(lw, num) = label_clusters(z)\n",
    "print(\"labeled clusters = \\n\",lw)\n",
    "print(\"Contains percolating cluster?\\n\",is_percolating(lw))\n",
    "\n",
    "b = np.arange(lw.max() + 1)\n",
    "#shuffle(b)\n",
    "shuffledLw = b[lw]\n",
    "\n",
    "plt.figure()\n",
    "plt.imshow(shuffledLw, origin='lower', interpolation='nearest')\n",
    "plt.title(r\"$p=$\"+str(p)+r\", $L=$\"+str(size))\n",
    "plt.show()"
   ]
  },
  {
   "cell_type": "markdown",
   "metadata": {},
   "source": [
    "### Tinkering\n",
    "If you feel so inclined, here are some suggestions for taking what we've learned a bit further.\n",
    "1. Make a graph that shows how the value of a numerical integral converges as $\\delta x$ is changed.\n",
    "* Find the angle at which a canonball should be launched to maximize its horizontal travel (ie range) before hitting the ground again. Compare the result with and without air resistance.\n",
    "* Do two objects dropped from the same height hit the groun at the same time, regradless of their initial velocity in the horizontal direction? Does the answer depend on air resistance?  What if we modified the drag force to be $F_{drag}=-c\\hat{v}$, that is, the drag force only depends on the direction of travel, not the speed of the object.\n",
    "* Study the phase transition that occurs in the percolation problem.  For a range of values of $p$, perform many percolation trials for each $p$ and record what percentage contain percolating clusters, $P(p)$. Make a plot of $P(p)$. What is the critical occuption probability? How does the result depend on system size?"
   ]
  },
  {
   "cell_type": "code",
   "execution_count": null,
   "metadata": {},
   "outputs": [],
   "source": []
  }
 ],
 "metadata": {
  "kernelspec": {
   "display_name": "Python 3",
   "language": "python",
   "name": "python3"
  },
  "language_info": {
   "codemirror_mode": {
    "name": "ipython",
    "version": 3
   },
   "file_extension": ".py",
   "mimetype": "text/x-python",
   "name": "python",
   "nbconvert_exporter": "python",
   "pygments_lexer": "ipython3",
   "version": "3.6.0"
  }
 },
 "nbformat": 4,
 "nbformat_minor": 2
}
